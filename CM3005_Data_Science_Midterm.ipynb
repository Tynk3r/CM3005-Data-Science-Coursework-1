{
  "nbformat": 4,
  "nbformat_minor": 0,
  "metadata": {
    "colab": {
      "provenance": [],
      "collapsed_sections": [
        "EVjjLujlqtdD"
      ],
      "mount_file_id": "1ZuisMEP28k_FmmLAB63uw14nyEGNDebR",
      "authorship_tag": "ABX9TyOEviIQXpCjGJF0hBcFv/R8",
      "include_colab_link": true
    },
    "kernelspec": {
      "name": "python3",
      "display_name": "Python 3"
    },
    "language_info": {
      "name": "python"
    }
  },
  "cells": [
    {
      "cell_type": "markdown",
      "metadata": {
        "id": "view-in-github",
        "colab_type": "text"
      },
      "source": [
        "<a href=\"https://colab.research.google.com/github/Tynk3r/CM3005-Data-Science-Coursework-1/blob/main/CM3005_Data_Science_Midterm.ipynb\" target=\"_parent\"><img src=\"https://colab.research.google.com/assets/colab-badge.svg\" alt=\"Open In Colab\"/></a>"
      ]
    },
    {
      "cell_type": "markdown",
      "source": [
        "# 1. Domain-specific area and objectives of the project\n",
        "The area explored in this project is that of the realm of e-commmerce, specifically regarding the sale of laptops. Understanding the factors driving prices on laptops sold on e-commerce sites will benefit both consumers and sellers, and applying a linear regression model here will help us to understand the relationship between the prices of laptops and their specifications.\n",
        "\n",
        "The objectives of this project are as follows:\n",
        "\n",
        "\n",
        "1. Choose an appropriate dataset for this project (showing both the prices and specifications of laptops on e-commerce sites).\n",
        "2. Clean the dataset for missing or unclean data and preprocess it to make it easier to visualise and apply a model to.\n",
        "3. Construct a predictive model that will estimate laptop prices based on the specifications of the laptop.\n",
        "\n",
        "This accurate pricing model will help consumers by allowing them to better assess the value of a given laptop based on its specifications and this facilitate more informed purchases. It will also help sellers by letting them understand the factors affecting laptop pricing in the market, allowing them to make more strategic pricing strategies.\n",
        "\n",
        "The significance of this project in this domain-specific area is that a more accurate model of the prices of laptops will lead to more transparent and competitive markets. It also contributes to the ongoing conversation around leveraging machine learning in e-commerce."
      ],
      "metadata": {
        "id": "ZH7y_a4Oe2Ue"
      }
    },
    {
      "cell_type": "markdown",
      "source": [
        "# 2. Dataset description\n",
        "\n",
        "The dataset chosen for this project is a collection of laptop product listings from an e-commerce website, with its specifications and price listed. There are 1300 listings provided in the dataset, and the data types provided are as follows:\n",
        "* Categorical Variables: Brand, Type, CPU, GPU, OS\n",
        "* Numerical Variables: Screen Size, Resolution, RAM, Storage Capacity, Weight\n",
        "* Target Variable: Price (continuous)\n",
        "\n",
        "The source of the dataset is from Kaggle.com: https://www.kaggle.com/datasets/ehtishamsadiq/uncleaned-laptop-price-dataset\n"
      ],
      "metadata": {
        "id": "FCnSu6Awh8DA"
      }
    },
    {
      "cell_type": "markdown",
      "source": [
        "# 3. Data preparation (acquisition/cleaning/sanitisation/normalisation)\n",
        "\n",
        "The dataset is in a CSV file format. We will first convert the dataset to a dataframe so we can perform the necessary operations on it.\n",
        "\n",
        "The issues with the dataset, and their solutions, are as follows:\n",
        "1. There are some rows with completely null data and some with ? where information was not filled in.\n",
        "> We will remove these rows completely from the dataset.\n",
        "2. The ScreenResolution column contains information about the screen type rather than just the resolution.\n",
        "> We will remove the panel information and split it into two columns containing vertical and horizontal resolution respectively.\n",
        "3. The CPU column contains inconsistently formatted data.\n",
        "> We will split the CPU column into CPU Brand and Clock Speed (this is not fully accurate to real world performance but since it is for the purposes of marketing, it will be sufficient for our needs on modelling the expected price).\n",
        "4. The RAM column includes units in the values.\n",
        "> Remove the units from the values and rename the RAM column to RAM (GB).\n",
        "4. The Memory column includes all types of storage in the system.\n",
        "> We will be combining the storage capacity of all drives into the system into one column named Storage Capacity and include an additional column that contains a boolean that indicates if flash/SSDbased storage is present in the system or just spinning drives/HDDs.\n",
        "5. The GPU column does not differentiate whether the GPU is the integrated GPU on the CPU or a discrete graphics card.\n",
        "> We will add a column that contains a boolean indicating if the system contains a discrete graphics card or if it uses the integrated graphics.\n",
        "6. The OpSys column contains inconsistently named operating systems, like macOS, Mac OS X, Windows 10, and Windows 10 S.\n",
        "> Normalise all values in that column to macOS, Windows, Android, ChromeOS, Linux, or No OS. (Windows 7, 8, and 10 are folded into one as consumers will be given the prompt to upgrade to 10/11 as soon as they boot the laptop)\n",
        "7. The data in the Weight column is formatted as a string with the unit (kg) included in the value.\n",
        "> We will specify that the weight is in kilograms and remove the kg suffix from each value, converting them to numerical variables.\n",
        "8. The price is in INR.\n",
        "> We will convert this to GBP at a rate of 1 INR to 0.01 GBP.\n",
        "9. One entry in the dataset has a wildly inconsistent weight to the rest of the values in the column.\n",
        "> Remove this entry entirely."
      ],
      "metadata": {
        "id": "EVjjLujlqtdD"
      }
    },
    {
      "cell_type": "code",
      "source": [
        "import pandas as pd\n",
        "\n",
        "# Convert the dataset (CSV file) to a dataframe\n",
        "df = pd.read_csv('original_dataset.csv')\n",
        "# Remove the index column from the CSV\n",
        "df = df.drop(['Unnamed: 0'], axis=1)\n",
        "\n",
        "### Remove all missing entries & Remove inconsistent entries.\n",
        "df.replace([\"0.0002kg\", \"?\"], pd.NA, inplace=True) # Missing entries have ? in that cell. This line changes those to null so dropna() will catch and remove them. (Also 0.0002kg is the only inconsistent entry in the dataset not set to a ?)\n",
        "df = df.dropna()\n",
        "###\n",
        "\n",
        "### Remove extraneous information from the ScreenResolution column\n",
        "# set a regex to match resolution format and extract it from the ScreenResolution column\n",
        "resolution_pattern = r'(\\d+)x(\\d+)'\n",
        "resolutions = df['ScreenResolution'].str.extract(resolution_pattern)\n",
        "# insert the two new columns\n",
        "df.insert(df.columns.get_loc('ScreenResolution') + 1, 'HorizontalResolution', resolutions[0])\n",
        "df.insert(df.columns.get_loc('ScreenResolution') + 2, 'VerticalResolution', resolutions[1])\n",
        "# clean up and convert values to numerical (use .loc because setting value throws warning)\n",
        "df.loc[:, ['HorizontalResolution', 'VerticalResolution']] = df[['HorizontalResolution', 'VerticalResolution']].astype(float)\n",
        "df = df.drop('ScreenResolution', axis=1)\n",
        "###\n",
        "\n",
        "### Split CPU information\n",
        "# extract clock speed using a regex then remove it from the original value\n",
        "clock_speed_pattern = r'(\\d+(\\.\\d+)?)GHz'\n",
        "clock_speeds = df['Cpu'].str.extract(clock_speed_pattern)\n",
        "df.insert(df.columns.get_loc('Cpu') + 1, 'Clock Speed (GHz)', clock_speeds[0])\n",
        "df.loc[:, ['Clock Speed (GHz)']] = df[['Clock Speed (GHz)']].astype(float) # set as float\n",
        "df['Cpu'] = df['Cpu'].str.replace(clock_speed_pattern, '')\n",
        "# extract the cpu brand using a regex then replace the original column with the CPU Brand column\n",
        "cpu_brand_pattern = r'^(Intel|AMD|Samsung)'\n",
        "cpu_brands = df['Cpu'].str.extract(cpu_brand_pattern)\n",
        "df.insert(df.columns.get_loc('Cpu') + 1, 'CPU Brand', cpu_brands)\n",
        "df = df.drop('Cpu', axis=1)\n",
        "###\n",
        "\n",
        "### Remove unit from RAM column\n",
        "ram_pattern = r'(\\d+)GB'\n",
        "ram_values = df['Ram'].str.extract(ram_pattern)\n",
        "df.insert(df.columns.get_loc('Ram') + 1, 'RAM (GB)', ram_values[0])\n",
        "df.loc[:, ['RAM (GB)']] = df[['RAM (GB)']].astype(int)\n",
        "df = df.drop(['Ram'], axis=1)\n",
        "###\n",
        "\n",
        "### Combine storage capacity and add column for if only HDD storage is used\n",
        "# Extract GB and TB capacities into two temp columns, then combine into Total Storage (GB) and delete temp columns\n",
        "def extract_storage_capacity(memory_str, unit='GB'):\n",
        "    pattern = r'(\\d+(\\.\\d+)?)\\s?(?:' + unit + ')'\n",
        "    capacities = df[memory_str].str.extractall(pattern)[0].astype(float)\n",
        "    return capacities.groupby(level=0).sum()\n",
        "df['tempGB'] = extract_storage_capacity('Memory', 'GB')\n",
        "df['tempTB'] = extract_storage_capacity('Memory', 'TB') * 1024\n",
        "df.insert(df.columns.get_loc('Memory') + 1, 'Total Storage (GB)', df['tempGB'].fillna(0) + df['tempTB'].fillna(0))\n",
        "df['Total Storage (GB)'] = df['Total Storage (GB)'].astype(int)\n",
        "df = df.drop(['tempGB', 'tempTB'], axis=1)\n",
        "# Check if flash memory is present\n",
        "storage_pattern = r'HDD'\n",
        "df.insert(df.columns.get_loc('Memory') + 2, 'HDD Only?', df['Memory'].str.contains(storage_pattern, case=False))\n",
        "df['HDD Only?'] = df['HDD Only?'].astype(int)\n",
        "# Get rid of the memory column since we dont need it anymore\n",
        "df = df.drop(['Memory'], axis=1)\n",
        "###\n",
        "\n",
        "### Display column that indicates if integrated or discrete graphics\n",
        "discrete_graphics_pattern = r'Nvidia|AMD Radeon|AMD FirePro'\n",
        "df.insert(df.columns.get_loc('Gpu') + 1, 'Discrete Graphics?', df['Gpu'].str.contains(discrete_graphics_pattern, case=True))\n",
        "df['Discrete Graphics?'] = df['Discrete Graphics?'].astype(int)\n",
        "###\n",
        "\n",
        "### Normalise OS values\n",
        "os_mapping = {\n",
        "    'Mac OS X': 'macOS',\n",
        "    'macOS': 'macOS',\n",
        "    'Windows 10': 'Windows',\n",
        "    'Windows 10 S': 'Windows',\n",
        "    'Windows 7': 'Windows',\n",
        "    'Linux': 'Linux',\n",
        "    'Android': 'Android',\n",
        "    'Chrome OS': 'ChromeOS'\n",
        "}\n",
        "df['OpSys'] = df['OpSys'].map(os_mapping).fillna('No OS')\n",
        "###\n",
        "\n",
        "### Remove unit from weight column\n",
        "weight_pattern = r'(\\d+(\\.\\d+)?)kg'\n",
        "weights = df['Weight'].str.extract(weight_pattern)\n",
        "df.insert(df.columns.get_loc('Weight') + 1, 'Weight (kg)', weights[0])\n",
        "df.loc[:, ['Weight (kg)']] = df[['Weight (kg)']].astype(float)\n",
        "df = df.drop(['Weight'], axis=1)\n",
        "###\n",
        "\n",
        "### Convert price to GBP\n",
        "df.insert(df.columns.get_loc('Price') + 1, 'Price (GBP)', (df['Price'] * 0.01).round(2))\n",
        "df.loc[:, ['Price (GBP)']] = df[['Price (GBP)']].astype(float)\n",
        "df = df.drop(['Price'], axis=1)\n",
        "###\n",
        "\n",
        "# Drop the original 'Price' column if needed\n",
        "# df = df.drop(['Price'], axis=1)\n",
        "###\n",
        "\n",
        "# Save the cleaned dataframe to file\n",
        "df.to_csv('cleaned_dataset.csv', index=False)"
      ],
      "metadata": {
        "colab": {
          "base_uri": "https://localhost:8080/"
        },
        "id": "KGsdZ-geq81D",
        "outputId": "8c265e33-18a4-454d-cc45-b1a32302efdd"
      },
      "execution_count": 153,
      "outputs": [
        {
          "output_type": "stream",
          "name": "stderr",
          "text": [
            "<ipython-input-153-7903b4e3e97c>:21: DeprecationWarning: In a future version, `df.iloc[:, i] = newvals` will attempt to set the values inplace instead of always setting a new array. To retain the old behavior, use either `df[df.columns[i]] = newvals` or, if columns are non-unique, `df.isetitem(i, newvals)`\n",
            "  df.loc[:, ['HorizontalResolution', 'VerticalResolution']] = df[['HorizontalResolution', 'VerticalResolution']].astype(float)\n",
            "<ipython-input-153-7903b4e3e97c>:30: DeprecationWarning: In a future version, `df.iloc[:, i] = newvals` will attempt to set the values inplace instead of always setting a new array. To retain the old behavior, use either `df[df.columns[i]] = newvals` or, if columns are non-unique, `df.isetitem(i, newvals)`\n",
            "  df.loc[:, ['Clock Speed (GHz)']] = df[['Clock Speed (GHz)']].astype(float) # set as float\n",
            "<ipython-input-153-7903b4e3e97c>:31: FutureWarning: The default value of regex will change from True to False in a future version.\n",
            "  df['Cpu'] = df['Cpu'].str.replace(clock_speed_pattern, '')\n",
            "<ipython-input-153-7903b4e3e97c>:43: DeprecationWarning: In a future version, `df.iloc[:, i] = newvals` will attempt to set the values inplace instead of always setting a new array. To retain the old behavior, use either `df[df.columns[i]] = newvals` or, if columns are non-unique, `df.isetitem(i, newvals)`\n",
            "  df.loc[:, ['RAM (GB)']] = df[['RAM (GB)']].astype(int)\n",
            "<ipython-input-153-7903b4e3e97c>:90: DeprecationWarning: In a future version, `df.iloc[:, i] = newvals` will attempt to set the values inplace instead of always setting a new array. To retain the old behavior, use either `df[df.columns[i]] = newvals` or, if columns are non-unique, `df.isetitem(i, newvals)`\n",
            "  df.loc[:, ['Weight (kg)']] = df[['Weight (kg)']].astype(float)\n"
          ]
        }
      ]
    },
    {
      "cell_type": "markdown",
      "source": [
        "# 4. Statistical analysis\n",
        "We will now perform a summmary of the dataset."
      ],
      "metadata": {
        "id": "JgFXv6EUVwKS"
      }
    },
    {
      "cell_type": "markdown",
      "source": [
        "\n",
        "\n",
        "We will start by importing the necessary python libraries."
      ],
      "metadata": {
        "id": "A_jZsQ0ueeWb"
      }
    },
    {
      "cell_type": "code",
      "source": [
        "import pandas as pd\n",
        "from scipy.stats import describe"
      ],
      "metadata": {
        "id": "fLIHIVRaZgx1"
      },
      "execution_count": 154,
      "outputs": []
    },
    {
      "cell_type": "markdown",
      "source": [
        "We will then load the cleaned dataset from the previous section as a dataframe, as before."
      ],
      "metadata": {
        "id": "76k9NcBtZh_f"
      }
    },
    {
      "cell_type": "code",
      "source": [
        "df = pd.read_csv('cleaned_dataset.csv')"
      ],
      "metadata": {
        "id": "0lFTJ5H0ZqeI"
      },
      "execution_count": 155,
      "outputs": []
    },
    {
      "cell_type": "markdown",
      "source": [
        "## 4.1 Statistical Summary of Numerical Variables\n",
        "We will now provide a summary of the numerical variables in the dataset, namely the screen size, resolution, memory, storage capacity, weight, and price. As is common for consumer electronics, the budget or lower end systems are overrepresented, with a fewer amount of higher end configurations being available for purchase."
      ],
      "metadata": {
        "id": "xte4fya8ZtX5"
      }
    },
    {
      "cell_type": "code",
      "source": [
        "print(df.describe())"
      ],
      "metadata": {
        "colab": {
          "base_uri": "https://localhost:8080/"
        },
        "id": "lbb_6FJEZ51E",
        "outputId": "514912e6-4ff1-41bf-bd52-fa749c311b20"
      },
      "execution_count": 156,
      "outputs": [
        {
          "output_type": "stream",
          "name": "stdout",
          "text": [
            "            Inches  HorizontalResolution  VerticalResolution  \\\n",
            "count  1269.000000           1269.000000         1269.000000   \n",
            "mean     15.131521           1894.138692         1070.509062   \n",
            "std       1.955982            494.972331          284.848218   \n",
            "min      10.100000           1366.000000          768.000000   \n",
            "25%      14.000000           1600.000000          900.000000   \n",
            "50%      15.600000           1920.000000         1080.000000   \n",
            "75%      15.600000           1920.000000         1080.000000   \n",
            "max      35.600000           3840.000000         2160.000000   \n",
            "\n",
            "       Clock Speed (GHz)     RAM (GB)  Total Storage (GB)    HDD Only?  \\\n",
            "count        1269.000000  1269.000000         1269.000000  1269.000000   \n",
            "mean            2.299149     8.457841          621.784082     0.443656   \n",
            "std             0.507024     5.569109          481.350565     0.497011   \n",
            "min             0.900000     1.000000            8.000000     0.000000   \n",
            "25%             2.000000     4.000000          256.000000     0.000000   \n",
            "50%             2.500000     8.000000          500.000000     0.000000   \n",
            "75%             2.700000     8.000000         1024.000000     1.000000   \n",
            "max             3.600000    64.000000         2560.000000     1.000000   \n",
            "\n",
            "       Discrete Graphics?  Weight (kg)  Price (GBP)  \n",
            "count         1269.000000  1269.000000  1269.000000  \n",
            "mean             0.444444     2.079314   599.054846  \n",
            "std              0.497100     0.806587   373.321417  \n",
            "min              0.000000     0.690000    92.710000  \n",
            "25%              0.000000     1.500000   319.150000  \n",
            "50%              0.000000     2.040000   520.550000  \n",
            "75%              1.000000     2.320000   793.330000  \n",
            "max              1.000000    11.100000  3249.550000  \n"
          ]
        }
      ]
    },
    {
      "cell_type": "markdown",
      "source": [
        "## 4.2 Statistical Summary of Categorical Variables\n",
        "Looking at the summary of the categorical variables in the dataset, namely the brand, system type, CPU brand, GPU, and operating system, we can make quite a few observations. Not many manufacturers actually are in the laptop ecommerce market, with only 19 different manufacturers being included in the dataset. Lenovo is by and far the largest manufacturer of laptops sold on this site, accounting for over 20% of systems listed. Despite the wide variety of laptop style systems being sold, regular notebooks were the most listed. Additionally, Intel CPUs were most common among systems, and their integrated graphics solutions were also the most common. 75% of systems listed also had Windows pre installed as an operating system, though many more were listed as No OS and would likely include a free install of Windows, as is common on many ecommerce sites."
      ],
      "metadata": {
        "id": "wK-8pcxSb2hA"
      }
    },
    {
      "cell_type": "code",
      "source": [
        "print(df.describe(include=['object']))"
      ],
      "metadata": {
        "colab": {
          "base_uri": "https://localhost:8080/"
        },
        "id": "gSvFJLlX57Ji",
        "outputId": "28799960-0d15-4e3b-ab70-51758109c297"
      },
      "execution_count": 157,
      "outputs": [
        {
          "output_type": "stream",
          "name": "stdout",
          "text": [
            "       Company  TypeName CPU Brand                    Gpu    OpSys\n",
            "count     1269      1269      1269                   1269     1269\n",
            "unique      19         6         3                    110        6\n",
            "top     Lenovo  Notebook     Intel  Intel HD Graphics 620  Windows\n",
            "freq       290       709      1206                    271     1096\n"
          ]
        }
      ]
    },
    {
      "cell_type": "markdown",
      "source": [
        "## 4.3 Type of Distribution of Key Series\n",
        "Seeing as our project sets out to model the price of a laptop based on its specifications, our key series to analyse is price. To analyse the type of distribution for the price column, we will visualise the data using a histogram."
      ],
      "metadata": {
        "id": "S3mcmeeqdOFx"
      }
    },
    {
      "cell_type": "code",
      "source": [
        "import matplotlib.pyplot as plt\n",
        "import seaborn as sns\n",
        "\n",
        "plt.figure(figsize=(10, 6))\n",
        "plt.title('Distribution of Laptop Prices')\n",
        "plt.xlabel('Price (GBP)')\n",
        "plt.ylabel('Frequency')\n",
        "\n",
        "sns.histplot(df['Price (GBP)'], bins=30, kde=True)\n",
        "\n",
        "plt.show()\n"
      ],
      "metadata": {
        "colab": {
          "base_uri": "https://localhost:8080/",
          "height": 553
        },
        "id": "fSwmhxN7dp3t",
        "outputId": "112e6c2f-71c2-4430-9537-124b9d9e0a63"
      },
      "execution_count": 158,
      "outputs": [
        {
          "output_type": "display_data",
          "data": {
            "text/plain": [
              "<Figure size 1000x600 with 1 Axes>"
            ],
            "image/png": "[encoded data removed]"
          },
          "metadata": {}
        }
      ]
    },
    {
      "cell_type": "markdown",
      "source": [
        "We can see that the distribution is right or positively skewed, since as is normal for consumer electronics, there are many more players in the budget space, leading to an overrepresentation on ecommerce websites as compared to the relatively sparse choice in the higher end of the market."
      ],
      "metadata": {
        "id": "EF_ZcxwXdtrD"
      }
    },
    {
      "cell_type": "markdown",
      "source": [
        "# 5. Visualisation\n",
        "\n",
        "We will be visualising a few data series, namely:\n",
        "- The relationship between the CPU brand and its price\n",
        "- The relationship between whether a laptop has discrete graphics and its price\n",
        "- The relationship between the total storage and price\n",
        "- The relationship between whether a laptop has discrete graphics and its screen size\n",
        "- The relationship between the screen size and weight"
      ],
      "metadata": {
        "id": "3EbImjj8evpw"
      }
    },
    {
      "cell_type": "code",
      "source": [
        "import matplotlib.pyplot as plt\n",
        "import seaborn as sns"
      ],
      "metadata": {
        "id": "ZXu0XVYji_tj"
      },
      "execution_count": 159,
      "outputs": []
    },
    {
      "cell_type": "markdown",
      "source": [
        "## Price vs CPU Brand\n",
        "We will use a box plot to visualise the relationship between a laptop's CPU brand versus its price."
      ],
      "metadata": {
        "id": "T-S9eYOIf3zY"
      }
    },
    {
      "cell_type": "code",
      "source": [
        "plt.figure(figsize=(12, 6))\n",
        "sns.boxplot(x='CPU Brand', y='Price (GBP)', data=df)\n",
        "plt.title('CPU Brand vs. Laptop Price')\n",
        "plt.xlabel('CPU Brand')\n",
        "plt.ylabel('Price (GBP)')\n",
        "plt.show()"
      ],
      "metadata": {
        "colab": {
          "base_uri": "https://localhost:8080/",
          "height": 467
        },
        "id": "qoGAGM8nfGPF",
        "outputId": "6c96241e-8c91-41ba-dd3d-5df5f7a15181"
      },
      "execution_count": 160,
      "outputs": [
        {
          "output_type": "display_data",
          "data": {
            "text/plain": [
              "<Figure size 1200x600 with 1 Axes>"
            ],
            "image/png": "[encoded data removed]"
          },
          "metadata": {}
        }
      ]
    },
    {
      "cell_type": "markdown",
      "source": [
        "Since Intel is by and large the largest manufacturer of CPUs for laptops, the results that show it is represented at every price range is not surprising. However, AMD CPUs seem to mostly reside in lower spec systems, which indicates that AMD is targeting the larger demand for budget laptops."
      ],
      "metadata": {
        "id": "66A9Gj0_ghz7"
      }
    },
    {
      "cell_type": "markdown",
      "source": [
        "## Price vs Discrete Graphics\n",
        "We will use a box plot to visualise the relationship between whether a laptop has discrete graphics versus its price."
      ],
      "metadata": {
        "id": "faoRk0Yvg5H7"
      }
    },
    {
      "cell_type": "code",
      "source": [
        "plt.figure(figsize=(8, 5))\n",
        "sns.boxplot(x='Discrete Graphics?', y='Price (GBP)', data=df)\n",
        "plt.title('Discrete Graphics vs. Laptop Price')\n",
        "plt.xlabel('Discrete Graphics')\n",
        "plt.ylabel('Price (GBP)')\n",
        "plt.show()"
      ],
      "metadata": {
        "colab": {
          "base_uri": "https://localhost:8080/",
          "height": 496
        },
        "id": "hPHA57Z_hAFy",
        "outputId": "6eb78662-897e-45fb-f4fe-1c9add9fd551"
      },
      "execution_count": 161,
      "outputs": [
        {
          "output_type": "display_data",
          "data": {
            "text/plain": [
              "<Figure size 800x500 with 1 Axes>"
            ],
            "image/png": "[encoded data removed]"
          },
          "metadata": {}
        }
      ]
    },
    {
      "cell_type": "markdown",
      "source": [
        "Although the results that higher priced laptops are more likely to include a discrete graphics processor is unsurprising, the small price gap is unexpected. The price distribution of laptops with discrete graphics processors is only a few hundred GBP in difference from those without, showing us that even budget laptops nowadays will usually include some sort of discrete graphics solution, and allows us to draw the conclusion that even at lower prices, consumers will not settle for a laptop without discrete graphics."
      ],
      "metadata": {
        "id": "WA0nRiMLhEd9"
      }
    },
    {
      "cell_type": "markdown",
      "source": [
        "## Price vs Storage\n",
        "We will use a scatter plot to visualise the relationship between a laptop's total storage capacity versus its price."
      ],
      "metadata": {
        "id": "tjolpXm1htg8"
      }
    },
    {
      "cell_type": "code",
      "source": [
        "plt.figure(figsize=(10, 6))\n",
        "sns.scatterplot(x='Total Storage (GB)', y='Price (GBP)', data=df)\n",
        "plt.title('Total Storage vs. Laptop Price')\n",
        "plt.xlabel('Total Storage (GB)')\n",
        "plt.ylabel('Price (GBP)')\n",
        "plt.show()"
      ],
      "metadata": {
        "colab": {
          "base_uri": "https://localhost:8080/",
          "height": 547
        },
        "id": "WwtRvbHrhyh6",
        "outputId": "050c0f09-f24b-4772-8666-c266085886ed"
      },
      "execution_count": 162,
      "outputs": [
        {
          "output_type": "display_data",
          "data": {
            "text/plain": [
              "<Figure size 1000x600 with 1 Axes>"
            ],
            "image/png": "[encoded data removed]"
          },
          "metadata": {}
        }
      ]
    },
    {
      "cell_type": "markdown",
      "source": [
        "Surprisingly, the highest storage capacity laptops are not also the highest priced ones - many of them sit in the mid-range, with many in the budget range in this dataset. The highest priced laptops have a variety of storage capacities ranging from under 500GB to over 1.5TB. Although the data we have is not enough to draw a conclusion as to why this is the case, one theory is that the users of higher end laptops - often video editors, graphic designers, 3D artists, or workers who have need of both portability and high performance - often have network storage solutions and thus do not need the extra weight and price of a large internal storage capacity."
      ],
      "metadata": {
        "id": "ZRx6uls4h29i"
      }
    },
    {
      "cell_type": "markdown",
      "source": [
        "## Discrete Graphics vs Screen Size\n",
        "Moving away from price, we will now use a box plot to visualise the relationship between a laptop's screen size and whether it includes discrete graphics."
      ],
      "metadata": {
        "id": "FSut-Zt1i2RA"
      }
    },
    {
      "cell_type": "code",
      "source": [
        "plt.figure(figsize=(10, 6))\n",
        "sns.boxplot(x='Discrete Graphics?', y='Inches', data=df)\n",
        "plt.title('Discrete Graphics vs. Screen Size')\n",
        "plt.xlabel('Discrete Graphics')\n",
        "plt.ylabel('Screen Size (Inches)')\n",
        "plt.show()"
      ],
      "metadata": {
        "colab": {
          "base_uri": "https://localhost:8080/",
          "height": 559
        },
        "id": "VzXnsK5AjWYh",
        "outputId": "58b13ba5-2704-4cc4-d927-c2bc0f25fb35"
      },
      "execution_count": 163,
      "outputs": [
        {
          "output_type": "display_data",
          "data": {
            "text/plain": [
              "<Figure size 1000x600 with 1 Axes>"
            ],
            "image/png": "[encoded data removed]"
          },
          "metadata": {}
        }
      ]
    },
    {
      "cell_type": "markdown",
      "source": [
        "As expected, larger screen sizes tend to correspond with the presence of discrete graphics on a system. Discrete graphics usually indicates a user that intends to use their system for gaming or for heavy work as opposed to just for casual or office use, which makes sense why those users would want more screen real estate to perform their tasks."
      ],
      "metadata": {
        "id": "yQevPF39jeo5"
      }
    },
    {
      "cell_type": "markdown",
      "source": [
        "## Screen Size vs Weight\n",
        "Finally, we will use a scatter plot to visualise the relationship between a laptop's screen size and its weight."
      ],
      "metadata": {
        "id": "vnIbceCWj3dy"
      }
    },
    {
      "cell_type": "code",
      "source": [
        "plt.figure(figsize=(10, 6))\n",
        "sns.scatterplot(x='Inches', y='Weight (kg)', data=df)\n",
        "plt.title('Screen Size vs. Laptop Weight')\n",
        "plt.xlabel('Screen Size (Inches)')\n",
        "plt.ylabel('Weight (kg)')\n",
        "plt.show()"
      ],
      "metadata": {
        "colab": {
          "base_uri": "https://localhost:8080/",
          "height": 559
        },
        "id": "T8IvSBKSj-2-",
        "outputId": "f4f9ae14-deab-452e-bb49-9945b7d972bf"
      },
      "execution_count": 164,
      "outputs": [
        {
          "output_type": "display_data",
          "data": {
            "text/plain": [
              "<Figure size 1000x600 with 1 Axes>"
            ],
            "image/png": "[encoded data removed]"
          },
          "metadata": {}
        }
      ]
    },
    {
      "cell_type": "markdown",
      "source": [
        "While the majority of systems listed in this data set follow the trend of larger screen sizes corresponding to a heavier weight, it is nonetheless interesting to note that the heaviest laptop has a screen size of below 15 inches, and the biggest screen size laptop with over 35 inches of screen size is relatively svelte, coming in at just over 2kg."
      ],
      "metadata": {
        "id": "Z-r4eNhCkGwL"
      }
    },
    {
      "cell_type": "markdown",
      "source": [
        "# 6. Building the model\n",
        "\n",
        "We will start by importing the necessary libraries and loading the cleaned dataset into a dataframe."
      ],
      "metadata": {
        "id": "WbDyyuoqkf4M"
      }
    },
    {
      "cell_type": "code",
      "source": [
        "import pandas as pd\n",
        "from sklearn.model_selection import train_test_split\n",
        "from sklearn.linear_model import LinearRegression\n",
        "from sklearn.metrics import mean_squared_error, r2_score\n",
        "\n",
        "df = pd.read_csv(\"cleaned_dataset.csv\")\n",
        "df.head()"
      ],
      "metadata": {
        "colab": {
          "base_uri": "https://localhost:8080/",
          "height": 206
        },
        "id": "yhEkmHBakysg",
        "outputId": "28c73411-c89a-4406-d79d-94d9282d7ad6"
      },
      "execution_count": 165,
      "outputs": [
        {
          "output_type": "execute_result",
          "data": {
            "text/plain": [
              "  Company   TypeName  Inches  HorizontalResolution  VerticalResolution  \\\n",
              "0   Apple  Ultrabook    13.3                2560.0              1600.0   \n",
              "1   Apple  Ultrabook    13.3                1440.0               900.0   \n",
              "2      HP   Notebook    15.6                1920.0              1080.0   \n",
              "3   Apple  Ultrabook    15.4                2880.0              1800.0   \n",
              "4   Apple  Ultrabook    13.3                2560.0              1600.0   \n",
              "\n",
              "  CPU Brand  Clock Speed (GHz)  RAM (GB)  Total Storage (GB)  HDD Only?  \\\n",
              "0     Intel                2.3         8                 128          0   \n",
              "1     Intel                1.8         8                 128          0   \n",
              "2     Intel                2.5         8                 256          0   \n",
              "3     Intel                2.7        16                 512          0   \n",
              "4     Intel                3.1         8                 256          0   \n",
              "\n",
              "                            Gpu  Discrete Graphics?  OpSys  Weight (kg)  \\\n",
              "0  Intel Iris Plus Graphics 640                   0  macOS         1.37   \n",
              "1        Intel HD Graphics 6000                   0  macOS         1.34   \n",
              "2         Intel HD Graphics 620                   0  No OS         1.86   \n",
              "3            AMD Radeon Pro 455                   1  macOS         1.83   \n",
              "4  Intel Iris Plus Graphics 650                   0  macOS         1.37   \n",
              "\n",
              "   Price (GBP)  \n",
              "0       713.79  \n",
              "1       478.96  \n",
              "2       306.36  \n",
              "3      1351.95  \n",
              "4       960.96  "
            ],
            "text/html": [
              "\n",
              "  <div id=\"df-cde75a6d-8d79-4756-a085-26ad6684b8ad\" class=\"colab-df-container\">\n",
              "    <div>\n",
              "<style scoped>\n",
              "    .dataframe tbody tr th:only-of-type {\n",
              "        vertical-align: middle;\n",
              "    }\n",
              "\n",
              "    .dataframe tbody tr th {\n",
              "        vertical-align: top;\n",
              "    }\n",
              "\n",
              "    .dataframe thead th {\n",
              "        text-align: right;\n",
              "    }\n",
              "</style>\n",
              "<table border=\"1\" class=\"dataframe\">\n",
              "  <thead>\n",
              "    <tr style=\"text-align: right;\">\n",
              "      <th></th>\n",
              "      <th>Company</th>\n",
              "      <th>TypeName</th>\n",
              "      <th>Inches</th>\n",
              "      <th>HorizontalResolution</th>\n",
              "      <th>VerticalResolution</th>\n",
              "      <th>CPU Brand</th>\n",
              "      <th>Clock Speed (GHz)</th>\n",
              "      <th>RAM (GB)</th>\n",
              "      <th>Total Storage (GB)</th>\n",
              "      <th>HDD Only?</th>\n",
              "      <th>Gpu</th>\n",
              "      <th>Discrete Graphics?</th>\n",
              "      <th>OpSys</th>\n",
              "      <th>Weight (kg)</th>\n",
              "      <th>Price (GBP)</th>\n",
              "    </tr>\n",
              "  </thead>\n",
              "  <tbody>\n",
              "    <tr>\n",
              "      <th>0</th>\n",
              "      <td>Apple</td>\n",
              "      <td>Ultrabook</td>\n",
              "      <td>13.3</td>\n",
              "      <td>2560.0</td>\n",
              "      <td>1600.0</td>\n",
              "      <td>Intel</td>\n",
              "      <td>2.3</td>\n",
              "      <td>8</td>\n",
              "      <td>128</td>\n",
              "      <td>0</td>\n",
              "      <td>Intel Iris Plus Graphics 640</td>\n",
              "      <td>0</td>\n",
              "      <td>macOS</td>\n",
              "      <td>1.37</td>\n",
              "      <td>713.79</td>\n",
              "    </tr>\n",
              "    <tr>\n",
              "      <th>1</th>\n",
              "      <td>Apple</td>\n",
              "      <td>Ultrabook</td>\n",
              "      <td>13.3</td>\n",
              "      <td>1440.0</td>\n",
              "      <td>900.0</td>\n",
              "      <td>Intel</td>\n",
              "      <td>1.8</td>\n",
              "      <td>8</td>\n",
              "      <td>128</td>\n",
              "      <td>0</td>\n",
              "      <td>Intel HD Graphics 6000</td>\n",
              "      <td>0</td>\n",
              "      <td>macOS</td>\n",
              "      <td>1.34</td>\n",
              "      <td>478.96</td>\n",
              "    </tr>\n",
              "    <tr>\n",
              "      <th>2</th>\n",
              "      <td>HP</td>\n",
              "      <td>Notebook</td>\n",
              "      <td>15.6</td>\n",
              "      <td>1920.0</td>\n",
              "      <td>1080.0</td>\n",
              "      <td>Intel</td>\n",
              "      <td>2.5</td>\n",
              "      <td>8</td>\n",
              "      <td>256</td>\n",
              "      <td>0</td>\n",
              "      <td>Intel HD Graphics 620</td>\n",
              "      <td>0</td>\n",
              "      <td>No OS</td>\n",
              "      <td>1.86</td>\n",
              "      <td>306.36</td>\n",
              "    </tr>\n",
              "    <tr>\n",
              "      <th>3</th>\n",
              "      <td>Apple</td>\n",
              "      <td>Ultrabook</td>\n",
              "      <td>15.4</td>\n",
              "      <td>2880.0</td>\n",
              "      <td>1800.0</td>\n",
              "      <td>Intel</td>\n",
              "      <td>2.7</td>\n",
              "      <td>16</td>\n",
              "      <td>512</td>\n",
              "      <td>0</td>\n",
              "      <td>AMD Radeon Pro 455</td>\n",
              "      <td>1</td>\n",
              "      <td>macOS</td>\n",
              "      <td>1.83</td>\n",
              "      <td>1351.95</td>\n",
              "    </tr>\n",
              "    <tr>\n",
              "      <th>4</th>\n",
              "      <td>Apple</td>\n",
              "      <td>Ultrabook</td>\n",
              "      <td>13.3</td>\n",
              "      <td>2560.0</td>\n",
              "      <td>1600.0</td>\n",
              "      <td>Intel</td>\n",
              "      <td>3.1</td>\n",
              "      <td>8</td>\n",
              "      <td>256</td>\n",
              "      <td>0</td>\n",
              "      <td>Intel Iris Plus Graphics 650</td>\n",
              "      <td>0</td>\n",
              "      <td>macOS</td>\n",
              "      <td>1.37</td>\n",
              "      <td>960.96</td>\n",
              "    </tr>\n",
              "  </tbody>\n",
              "</table>\n",
              "</div>\n",
              "    <div class=\"colab-df-buttons\">\n",
              "\n",
              "  <div class=\"colab-df-container\">\n",
              "    <button class=\"colab-df-convert\" onclick=\"convertToInteractive('df-cde75a6d-8d79-4756-a085-26ad6684b8ad')\"\n",
              "            title=\"Convert this dataframe to an interactive table.\"\n",
              "            style=\"display:none;\">\n",
              "\n",
              "  <svg xmlns=\"http://www.w3.org/2000/svg\" height=\"24px\" viewBox=\"0 -960 960 960\">\n",
              "    <path d=\"M120-120v-720h720v720H120Zm60-500h600v-160H180v160Zm220 220h160v-160H400v160Zm0 220h160v-160H400v160ZM180-400h160v-160H180v160Zm440 0h160v-160H620v160ZM180-180h160v-160H180v160Zm440 0h160v-160H620v160Z\"/>\n",
              "  </svg>\n",
              "    </button>\n",
              "\n",
              "  <style>\n",
              "    .colab-df-container {\n",
              "      display:flex;\n",
              "      gap: 12px;\n",
              "    }\n",
              "\n",
              "    .colab-df-convert {\n",
              "      background-color: #E8F0FE;\n",
              "      border: none;\n",
              "      border-radius: 50%;\n",
              "      cursor: pointer;\n",
              "      display: none;\n",
              "      fill: #1967D2;\n",
              "      height: 32px;\n",
              "      padding: 0 0 0 0;\n",
              "      width: 32px;\n",
              "    }\n",
              "\n",
              "    .colab-df-convert:hover {\n",
              "      background-color: #E2EBFA;\n",
              "      box-shadow: 0px 1px 2px rgba(60, 64, 67, 0.3), 0px 1px 3px 1px rgba(60, 64, 67, 0.15);\n",
              "      fill: #174EA6;\n",
              "    }\n",
              "\n",
              "    .colab-df-buttons div {\n",
              "      margin-bottom: 4px;\n",
              "    }\n",
              "\n",
              "    [theme=dark] .colab-df-convert {\n",
              "      background-color: #3B4455;\n",
              "      fill: #D2E3FC;\n",
              "    }\n",
              "\n",
              "    [theme=dark] .colab-df-convert:hover {\n",
              "      background-color: #434B5C;\n",
              "      box-shadow: 0px 1px 3px 1px rgba(0, 0, 0, 0.15);\n",
              "      filter: drop-shadow(0px 1px 2px rgba(0, 0, 0, 0.3));\n",
              "      fill: #FFFFFF;\n",
              "    }\n",
              "  </style>\n",
              "\n",
              "    <script>\n",
              "      const buttonEl =\n",
              "        document.querySelector('#df-cde75a6d-8d79-4756-a085-26ad6684b8ad button.colab-df-convert');\n",
              "      buttonEl.style.display =\n",
              "        google.colab.kernel.accessAllowed ? 'block' : 'none';\n",
              "\n",
              "      async function convertToInteractive(key) {\n",
              "        const element = document.querySelector('#df-cde75a6d-8d79-4756-a085-26ad6684b8ad');\n",
              "        const dataTable =\n",
              "          await google.colab.kernel.invokeFunction('convertToInteractive',\n",
              "                                                    [key], {});\n",
              "        if (!dataTable) return;\n",
              "\n",
              "        const docLinkHtml = 'Like what you see? Visit the ' +\n",
              "          '<a target=\"_blank\" href=https://colab.research.google.com/notebooks/data_table.ipynb>data table notebook</a>'\n",
              "          + ' to learn more about interactive tables.';\n",
              "        element.innerHTML = '';\n",
              "        dataTable['output_type'] = 'display_data';\n",
              "        await google.colab.output.renderOutput(dataTable, element);\n",
              "        const docLink = document.createElement('div');\n",
              "        docLink.innerHTML = docLinkHtml;\n",
              "        element.appendChild(docLink);\n",
              "      }\n",
              "    </script>\n",
              "  </div>\n",
              "\n",
              "\n",
              "<div id=\"df-52d8f56e-c1e8-4276-a5ef-65520ddcc3be\">\n",
              "  <button class=\"colab-df-quickchart\" onclick=\"quickchart('df-52d8f56e-c1e8-4276-a5ef-65520ddcc3be')\"\n",
              "            title=\"Suggest charts\"\n",
              "            style=\"display:none;\">\n",
              "\n",
              "<svg xmlns=\"http://www.w3.org/2000/svg\" height=\"24px\"viewBox=\"0 0 24 24\"\n",
              "     width=\"24px\">\n",
              "    <g>\n",
              "        <path d=\"M19 3H5c-1.1 0-2 .9-2 2v14c0 1.1.9 2 2 2h14c1.1 0 2-.9 2-2V5c0-1.1-.9-2-2-2zM9 17H7v-7h2v7zm4 0h-2V7h2v10zm4 0h-2v-4h2v4z\"/>\n",
              "    </g>\n",
              "</svg>\n",
              "  </button>\n",
              "\n",
              "<style>\n",
              "  .colab-df-quickchart {\n",
              "      --bg-color: #E8F0FE;\n",
              "      --fill-color: #1967D2;\n",
              "      --hover-bg-color: #E2EBFA;\n",
              "      --hover-fill-color: #174EA6;\n",
              "      --disabled-fill-color: #AAA;\n",
              "      --disabled-bg-color: #DDD;\n",
              "  }\n",
              "\n",
              "  [theme=dark] .colab-df-quickchart {\n",
              "      --bg-color: #3B4455;\n",
              "      --fill-color: #D2E3FC;\n",
              "      --hover-bg-color: #434B5C;\n",
              "      --hover-fill-color: #FFFFFF;\n",
              "      --disabled-bg-color: #3B4455;\n",
              "      --disabled-fill-color: #666;\n",
              "  }\n",
              "\n",
              "  .colab-df-quickchart {\n",
              "    background-color: var(--bg-color);\n",
              "    border: none;\n",
              "    border-radius: 50%;\n",
              "    cursor: pointer;\n",
              "    display: none;\n",
              "    fill: var(--fill-color);\n",
              "    height: 32px;\n",
              "    padding: 0;\n",
              "    width: 32px;\n",
              "  }\n",
              "\n",
              "  .colab-df-quickchart:hover {\n",
              "    background-color: var(--hover-bg-color);\n",
              "    box-shadow: 0 1px 2px rgba(60, 64, 67, 0.3), 0 1px 3px 1px rgba(60, 64, 67, 0.15);\n",
              "    fill: var(--button-hover-fill-color);\n",
              "  }\n",
              "\n",
              "  .colab-df-quickchart-complete:disabled,\n",
              "  .colab-df-quickchart-complete:disabled:hover {\n",
              "    background-color: var(--disabled-bg-color);\n",
              "    fill: var(--disabled-fill-color);\n",
              "    box-shadow: none;\n",
              "  }\n",
              "\n",
              "  .colab-df-spinner {\n",
              "    border: 2px solid var(--fill-color);\n",
              "    border-color: transparent;\n",
              "    border-bottom-color: var(--fill-color);\n",
              "    animation:\n",
              "      spin 1s steps(1) infinite;\n",
              "  }\n",
              "\n",
              "  @keyframes spin {\n",
              "    0% {\n",
              "      border-color: transparent;\n",
              "      border-bottom-color: var(--fill-color);\n",
              "      border-left-color: var(--fill-color);\n",
              "    }\n",
              "    20% {\n",
              "      border-color: transparent;\n",
              "      border-left-color: var(--fill-color);\n",
              "      border-top-color: var(--fill-color);\n",
              "    }\n",
              "    30% {\n",
              "      border-color: transparent;\n",
              "      border-left-color: var(--fill-color);\n",
              "      border-top-color: var(--fill-color);\n",
              "      border-right-color: var(--fill-color);\n",
              "    }\n",
              "    40% {\n",
              "      border-color: transparent;\n",
              "      border-right-color: var(--fill-color);\n",
              "      border-top-color: var(--fill-color);\n",
              "    }\n",
              "    60% {\n",
              "      border-color: transparent;\n",
              "      border-right-color: var(--fill-color);\n",
              "    }\n",
              "    80% {\n",
              "      border-color: transparent;\n",
              "      border-right-color: var(--fill-color);\n",
              "      border-bottom-color: var(--fill-color);\n",
              "    }\n",
              "    90% {\n",
              "      border-color: transparent;\n",
              "      border-bottom-color: var(--fill-color);\n",
              "    }\n",
              "  }\n",
              "</style>\n",
              "\n",
              "  <script>\n",
              "    async function quickchart(key) {\n",
              "      const quickchartButtonEl =\n",
              "        document.querySelector('#' + key + ' button');\n",
              "      quickchartButtonEl.disabled = true;  // To prevent multiple clicks.\n",
              "      quickchartButtonEl.classList.add('colab-df-spinner');\n",
              "      try {\n",
              "        const charts = await google.colab.kernel.invokeFunction(\n",
              "            'suggestCharts', [key], {});\n",
              "      } catch (error) {\n",
              "        console.error('Error during call to suggestCharts:', error);\n",
              "      }\n",
              "      quickchartButtonEl.classList.remove('colab-df-spinner');\n",
              "      quickchartButtonEl.classList.add('colab-df-quickchart-complete');\n",
              "    }\n",
              "    (() => {\n",
              "      let quickchartButtonEl =\n",
              "        document.querySelector('#df-52d8f56e-c1e8-4276-a5ef-65520ddcc3be button');\n",
              "      quickchartButtonEl.style.display =\n",
              "        google.colab.kernel.accessAllowed ? 'block' : 'none';\n",
              "    })();\n",
              "  </script>\n",
              "</div>\n",
              "\n",
              "    </div>\n",
              "  </div>\n"
            ]
          },
          "metadata": {},
          "execution_count": 165
        }
      ]
    },
    {
      "cell_type": "markdown",
      "source": [
        "## Feature & Label Selection\n",
        "Since this project aims to model the expected price of a laptop based on its specifications, we will use the price in GBP as its label. The features we will use to predict the price are the variables RAM (GB), Discrete Graphics?, Weight (kg), HDD Only?, and Clock Speed (GHz). We chose these values as they seem to be the ones power users, or those who would buy a higher priced laptop, would go for in a laptop."
      ],
      "metadata": {
        "id": "TITOyxTUlqu3"
      }
    },
    {
      "cell_type": "code",
      "source": [
        "features = df[['Clock Speed (GHz)', 'RAM (GB)', 'HDD Only?', 'Discrete Graphics?', 'Weight (kg)']]\n",
        "label = df['Price (GBP)']"
      ],
      "metadata": {
        "id": "slO6sRn1mwB4"
      },
      "execution_count": 166,
      "outputs": []
    },
    {
      "cell_type": "markdown",
      "source": [
        "## Split Dataset into Training and Testing Sets\n",
        "We will use sckitlearn to build this model. First, we split the dataset into two parts, one to train the model, and one to later evaluate the model's functionality. The code below splits it into 80% for training and 20% for testing."
      ],
      "metadata": {
        "id": "mw00CNVkno8f"
      }
    },
    {
      "cell_type": "code",
      "source": [
        "X_train, X_test, y_train, y_test = train_test_split(features, label, test_size=0.2, random_state=42)"
      ],
      "metadata": {
        "id": "j8uecyKwn6iO"
      },
      "execution_count": 167,
      "outputs": []
    },
    {
      "cell_type": "markdown",
      "source": [
        "## Building and Training the Model\n",
        "We will now create and train the model using the training data created in the previous step."
      ],
      "metadata": {
        "id": "5mP4mv-6oGd9"
      }
    },
    {
      "cell_type": "code",
      "source": [
        "model = LinearRegression()\n",
        "model.fit(X_train, y_train)"
      ],
      "metadata": {
        "colab": {
          "base_uri": "https://localhost:8080/",
          "height": 75
        },
        "id": "PmztQGFhoPZ9",
        "outputId": "0b28975f-71c1-4846-976a-7a06509b1549"
      },
      "execution_count": 168,
      "outputs": [
        {
          "output_type": "execute_result",
          "data": {
            "text/plain": [
              "LinearRegression()"
            ],
            "text/html": [
              "<style>#sk-container-id-1 {color: black;background-color: white;}#sk-container-id-1 pre{padding: 0;}#sk-container-id-1 div.sk-toggleable {background-color: white;}#sk-container-id-1 label.sk-toggleable__label {cursor: pointer;display: block;width: 100%;margin-bottom: 0;padding: 0.3em;box-sizing: border-box;text-align: center;}#sk-container-id-1 label.sk-toggleable__label-arrow:before {content: \"▸\";float: left;margin-right: 0.25em;color: #696969;}#sk-container-id-1 label.sk-toggleable__label-arrow:hover:before {color: black;}#sk-container-id-1 div.sk-estimator:hover label.sk-toggleable__label-arrow:before {color: black;}#sk-container-id-1 div.sk-toggleable__content {max-height: 0;max-width: 0;overflow: hidden;text-align: left;background-color: #f0f8ff;}#sk-container-id-1 div.sk-toggleable__content pre {margin: 0.2em;color: black;border-radius: 0.25em;background-color: #f0f8ff;}#sk-container-id-1 input.sk-toggleable__control:checked~div.sk-toggleable__content {max-height: 200px;max-width: 100%;overflow: auto;}#sk-container-id-1 input.sk-toggleable__control:checked~label.sk-toggleable__label-arrow:before {content: \"▾\";}#sk-container-id-1 div.sk-estimator input.sk-toggleable__control:checked~label.sk-toggleable__label {background-color: #d4ebff;}#sk-container-id-1 div.sk-label input.sk-toggleable__control:checked~label.sk-toggleable__label {background-color: #d4ebff;}#sk-container-id-1 input.sk-hidden--visually {border: 0;clip: rect(1px 1px 1px 1px);clip: rect(1px, 1px, 1px, 1px);height: 1px;margin: -1px;overflow: hidden;padding: 0;position: absolute;width: 1px;}#sk-container-id-1 div.sk-estimator {font-family: monospace;background-color: #f0f8ff;border: 1px dotted black;border-radius: 0.25em;box-sizing: border-box;margin-bottom: 0.5em;}#sk-container-id-1 div.sk-estimator:hover {background-color: #d4ebff;}#sk-container-id-1 div.sk-parallel-item::after {content: \"\";width: 100%;border-bottom: 1px solid gray;flex-grow: 1;}#sk-container-id-1 div.sk-label:hover label.sk-toggleable__label {background-color: #d4ebff;}#sk-container-id-1 div.sk-serial::before {content: \"\";position: absolute;border-left: 1px solid gray;box-sizing: border-box;top: 0;bottom: 0;left: 50%;z-index: 0;}#sk-container-id-1 div.sk-serial {display: flex;flex-direction: column;align-items: center;background-color: white;padding-right: 0.2em;padding-left: 0.2em;position: relative;}#sk-container-id-1 div.sk-item {position: relative;z-index: 1;}#sk-container-id-1 div.sk-parallel {display: flex;align-items: stretch;justify-content: center;background-color: white;position: relative;}#sk-container-id-1 div.sk-item::before, #sk-container-id-1 div.sk-parallel-item::before {content: \"\";position: absolute;border-left: 1px solid gray;box-sizing: border-box;top: 0;bottom: 0;left: 50%;z-index: -1;}#sk-container-id-1 div.sk-parallel-item {display: flex;flex-direction: column;z-index: 1;position: relative;background-color: white;}#sk-container-id-1 div.sk-parallel-item:first-child::after {align-self: flex-end;width: 50%;}#sk-container-id-1 div.sk-parallel-item:last-child::after {align-self: flex-start;width: 50%;}#sk-container-id-1 div.sk-parallel-item:only-child::after {width: 0;}#sk-container-id-1 div.sk-dashed-wrapped {border: 1px dashed gray;margin: 0 0.4em 0.5em 0.4em;box-sizing: border-box;padding-bottom: 0.4em;background-color: white;}#sk-container-id-1 div.sk-label label {font-family: monospace;font-weight: bold;display: inline-block;line-height: 1.2em;}#sk-container-id-1 div.sk-label-container {text-align: center;}#sk-container-id-1 div.sk-container {/* jupyter's `normalize.less` sets `[hidden] { display: none; }` but bootstrap.min.css set `[hidden] { display: none !important; }` so we also need the `!important` here to be able to override the default hidden behavior on the sphinx rendered scikit-learn.org. See: https://github.com/scikit-learn/scikit-learn/issues/21755 */display: inline-block !important;position: relative;}#sk-container-id-1 div.sk-text-repr-fallback {display: none;}</style><div id=\"sk-container-id-1\" class=\"sk-top-container\"><div class=\"sk-text-repr-fallback\"><pre>LinearRegression()</pre><b>In a Jupyter environment, please rerun this cell to show the HTML representation or trust the notebook. <br />On GitHub, the HTML representation is unable to render, please try loading this page with nbviewer.org.</b></div><div class=\"sk-container\" hidden><div class=\"sk-item\"><div class=\"sk-estimator sk-toggleable\"><input class=\"sk-toggleable__control sk-hidden--visually\" id=\"sk-estimator-id-1\" type=\"checkbox\" checked><label for=\"sk-estimator-id-1\" class=\"sk-toggleable__label sk-toggleable__label-arrow\">LinearRegression</label><div class=\"sk-toggleable__content\"><pre>LinearRegression()</pre></div></div></div></div></div>"
            ]
          },
          "metadata": {},
          "execution_count": 168
        }
      ]
    },
    {
      "cell_type": "markdown",
      "source": [
        "## Evaluation of the Model\n",
        "We will use the now-trained model to make predictions on the test set, and evaluate its performance."
      ],
      "metadata": {
        "id": "kw3eW43uoUEw"
      }
    },
    {
      "cell_type": "code",
      "source": [
        "y_pred = model.predict(X_test)\n",
        "mse = mean_squared_error(y_test, y_pred)\n",
        "r2 = r2_score(y_test, y_pred)\n",
        "\n",
        "print(f'Mean Squared Error: {mse}')\n",
        "print(f'R-squared: {r2}')"
      ],
      "metadata": {
        "colab": {
          "base_uri": "https://localhost:8080/"
        },
        "id": "0oqzr1KfoeGQ",
        "outputId": "3e2a70ac-1007-43e3-dd1d-529f24cf8b15"
      },
      "execution_count": 169,
      "outputs": [
        {
          "output_type": "stream",
          "name": "stdout",
          "text": [
            "Mean Squared Error: 44731.931628642276\n",
            "R-squared: 0.5683071235462527\n"
          ]
        }
      ]
    },
    {
      "cell_type": "markdown",
      "source": [
        "The MSE of this model is extremely high, and indicates that there is a low chance of predicting the correct price based on the specifications. However, the R-squared, while not perfect, is a decent start, indicating that the variables we have chosen is not far off from being able to make an accurate prediction of the prices."
      ],
      "metadata": {
        "id": "jlu5SWrqpINm"
      }
    },
    {
      "cell_type": "markdown",
      "source": [
        "# 7. Validation\n",
        "In this section, we will explore methods of validating the above model's results."
      ],
      "metadata": {
        "id": "v4hIpJL0qjLJ"
      }
    },
    {
      "cell_type": "markdown",
      "source": [
        "## Cross Validation\n",
        "We will implement cross-validation using scikit-learn. This will evaluate the generalizability of the model above on new, unseen data."
      ],
      "metadata": {
        "id": "H3shGXXPqzBo"
      }
    },
    {
      "cell_type": "code",
      "source": [
        "from sklearn.model_selection import cross_val_score\n",
        "\n",
        "cross_val_scores = cross_val_score(model, features, label, cv=5, scoring='neg_mean_squared_error')\n",
        "cross_val_mse = -cross_val_scores\n",
        "average_mse = cross_val_mse.mean()\n",
        "\n",
        "print(f'Average Cross-Validated Mean Squared Error: {average_mse}')"
      ],
      "metadata": {
        "colab": {
          "base_uri": "https://localhost:8080/"
        },
        "id": "BkUYLMYUq9Uu",
        "outputId": "5a1321ce-039e-4cc2-9b7d-39bd26133c52"
      },
      "execution_count": 170,
      "outputs": [
        {
          "output_type": "stream",
          "name": "stdout",
          "text": [
            "Average Cross-Validated Mean Squared Error: 65030.18946616093\n"
          ]
        }
      ]
    },
    {
      "cell_type": "markdown",
      "source": [
        "Since the cross-validated MSE is significantly higher, we can draw the conclusion that the generalizability of this model is low, and it will not perform well on new, unseen data."
      ],
      "metadata": {
        "id": "us7Fy9kprZ65"
      }
    },
    {
      "cell_type": "markdown",
      "source": [
        "## Random Forest Regressor\n",
        "\n",
        "We will also try a validation method called the Random Forest Regressor, that uses multiple independent decision trees all trained on random subsets of the dataset, and averages the result, resulting in reduced overfitting."
      ],
      "metadata": {
        "id": "8HC-NE8srpvj"
      }
    },
    {
      "cell_type": "code",
      "source": [
        "from sklearn.ensemble import RandomForestRegressor\n",
        "\n",
        "rf_model = RandomForestRegressor(random_state=42)\n",
        "rf_model.fit(X_train, y_train)\n",
        "rf_y_pred = rf_model.predict(X_test)\n",
        "rf_mse = mean_squared_error(y_test, rf_y_pred)\n",
        "rf_r2 = r2_score(y_test, rf_y_pred)\n",
        "\n",
        "print(f'Random Forest Mean Squared Error: {rf_mse}')\n",
        "print(f'Random Forest R-squared: {rf_r2}')"
      ],
      "metadata": {
        "colab": {
          "base_uri": "https://localhost:8080/"
        },
        "id": "p-H1WNYEsRf0",
        "outputId": "3a3931d9-6b3d-4959-f7ea-647d79cdf5f6"
      },
      "execution_count": 171,
      "outputs": [
        {
          "output_type": "stream",
          "name": "stdout",
          "text": [
            "Random Forest Mean Squared Error: 30103.273332550638\n",
            "Random Forest R-squared: 0.7094834007284159\n"
          ]
        }
      ]
    },
    {
      "cell_type": "markdown",
      "source": [
        "The implementation of the Random Forest model has significantly improved over the original Linear Regression model, with an MSE of 30103 compared to 44731 and an R-squared of 0.7 vs 0.56. We can draw the conclusion that this particular dataset lends itself better to the Random Forest Regressor model, since we observed a ~20% improvement in both metrics."
      ],
      "metadata": {
        "id": "QqhclRfYsf_J"
      }
    },
    {
      "cell_type": "markdown",
      "source": [
        "# 8. Feature Engineering\n",
        "We will now implement feature engineering techniques, and revaluate the model's performance."
      ],
      "metadata": {
        "id": "BxPboaeBtbV_"
      }
    },
    {
      "cell_type": "code",
      "source": [
        "import numpy as np\n",
        "import pandas as pd\n",
        "from sklearn.preprocessing import PolynomialFeatures\n",
        "from sklearn.pipeline import make_pipeline\n",
        "from sklearn.linear_model import LinearRegression\n",
        "from sklearn.model_selection import train_test_split\n",
        "from sklearn.metrics import mean_squared_error, r2_score\n",
        "\n",
        "df = pd.read_csv(\"cleaned_dataset.csv\")\n",
        "df.head()"
      ],
      "metadata": {
        "colab": {
          "base_uri": "https://localhost:8080/",
          "height": 469
        },
        "id": "_elnmI7ntnwA",
        "outputId": "5203b394-9e09-4ce8-ed4f-9e5e57adb779"
      },
      "execution_count": 173,
      "outputs": [
        {
          "output_type": "execute_result",
          "data": {
            "text/plain": [
              "  Company   TypeName  Inches  HorizontalResolution  VerticalResolution  \\\n",
              "0   Apple  Ultrabook    13.3                2560.0              1600.0   \n",
              "1   Apple  Ultrabook    13.3                1440.0               900.0   \n",
              "2      HP   Notebook    15.6                1920.0              1080.0   \n",
              "3   Apple  Ultrabook    15.4                2880.0              1800.0   \n",
              "4   Apple  Ultrabook    13.3                2560.0              1600.0   \n",
              "\n",
              "  CPU Brand  Clock Speed (GHz)  RAM (GB)  Total Storage (GB)  HDD Only?  \\\n",
              "0     Intel                2.3         8                 128          0   \n",
              "1     Intel                1.8         8                 128          0   \n",
              "2     Intel                2.5         8                 256          0   \n",
              "3     Intel                2.7        16                 512          0   \n",
              "4     Intel                3.1         8                 256          0   \n",
              "\n",
              "                            Gpu  Discrete Graphics?  OpSys  Weight (kg)  \\\n",
              "0  Intel Iris Plus Graphics 640                   0  macOS         1.37   \n",
              "1        Intel HD Graphics 6000                   0  macOS         1.34   \n",
              "2         Intel HD Graphics 620                   0  No OS         1.86   \n",
              "3            AMD Radeon Pro 455                   1  macOS         1.83   \n",
              "4  Intel Iris Plus Graphics 650                   0  macOS         1.37   \n",
              "\n",
              "   Price (GBP)  \n",
              "0       713.79  \n",
              "1       478.96  \n",
              "2       306.36  \n",
              "3      1351.95  \n",
              "4       960.96  "
            ],
            "text/html": [
              "\n",
              "  <div id=\"df-af66f390-45e0-4b9d-a254-32db69c6720e\" class=\"colab-df-container\">\n",
              "    <div>\n",
              "<style scoped>\n",
              "    .dataframe tbody tr th:only-of-type {\n",
              "        vertical-align: middle;\n",
              "    }\n",
              "\n",
              "    .dataframe tbody tr th {\n",
              "        vertical-align: top;\n",
              "    }\n",
              "\n",
              "    .dataframe thead th {\n",
              "        text-align: right;\n",
              "    }\n",
              "</style>\n",
              "<table border=\"1\" class=\"dataframe\">\n",
              "  <thead>\n",
              "    <tr style=\"text-align: right;\">\n",
              "      <th></th>\n",
              "      <th>Company</th>\n",
              "      <th>TypeName</th>\n",
              "      <th>Inches</th>\n",
              "      <th>HorizontalResolution</th>\n",
              "      <th>VerticalResolution</th>\n",
              "      <th>CPU Brand</th>\n",
              "      <th>Clock Speed (GHz)</th>\n",
              "      <th>RAM (GB)</th>\n",
              "      <th>Total Storage (GB)</th>\n",
              "      <th>HDD Only?</th>\n",
              "      <th>Gpu</th>\n",
              "      <th>Discrete Graphics?</th>\n",
              "      <th>OpSys</th>\n",
              "      <th>Weight (kg)</th>\n",
              "      <th>Price (GBP)</th>\n",
              "    </tr>\n",
              "  </thead>\n",
              "  <tbody>\n",
              "    <tr>\n",
              "      <th>0</th>\n",
              "      <td>Apple</td>\n",
              "      <td>Ultrabook</td>\n",
              "      <td>13.3</td>\n",
              "      <td>2560.0</td>\n",
              "      <td>1600.0</td>\n",
              "      <td>Intel</td>\n",
              "      <td>2.3</td>\n",
              "      <td>8</td>\n",
              "      <td>128</td>\n",
              "      <td>0</td>\n",
              "      <td>Intel Iris Plus Graphics 640</td>\n",
              "      <td>0</td>\n",
              "      <td>macOS</td>\n",
              "      <td>1.37</td>\n",
              "      <td>713.79</td>\n",
              "    </tr>\n",
              "    <tr>\n",
              "      <th>1</th>\n",
              "      <td>Apple</td>\n",
              "      <td>Ultrabook</td>\n",
              "      <td>13.3</td>\n",
              "      <td>1440.0</td>\n",
              "      <td>900.0</td>\n",
              "      <td>Intel</td>\n",
              "      <td>1.8</td>\n",
              "      <td>8</td>\n",
              "      <td>128</td>\n",
              "      <td>0</td>\n",
              "      <td>Intel HD Graphics 6000</td>\n",
              "      <td>0</td>\n",
              "      <td>macOS</td>\n",
              "      <td>1.34</td>\n",
              "      <td>478.96</td>\n",
              "    </tr>\n",
              "    <tr>\n",
              "      <th>2</th>\n",
              "      <td>HP</td>\n",
              "      <td>Notebook</td>\n",
              "      <td>15.6</td>\n",
              "      <td>1920.0</td>\n",
              "      <td>1080.0</td>\n",
              "      <td>Intel</td>\n",
              "      <td>2.5</td>\n",
              "      <td>8</td>\n",
              "      <td>256</td>\n",
              "      <td>0</td>\n",
              "      <td>Intel HD Graphics 620</td>\n",
              "      <td>0</td>\n",
              "      <td>No OS</td>\n",
              "      <td>1.86</td>\n",
              "      <td>306.36</td>\n",
              "    </tr>\n",
              "    <tr>\n",
              "      <th>3</th>\n",
              "      <td>Apple</td>\n",
              "      <td>Ultrabook</td>\n",
              "      <td>15.4</td>\n",
              "      <td>2880.0</td>\n",
              "      <td>1800.0</td>\n",
              "      <td>Intel</td>\n",
              "      <td>2.7</td>\n",
              "      <td>16</td>\n",
              "      <td>512</td>\n",
              "      <td>0</td>\n",
              "      <td>AMD Radeon Pro 455</td>\n",
              "      <td>1</td>\n",
              "      <td>macOS</td>\n",
              "      <td>1.83</td>\n",
              "      <td>1351.95</td>\n",
              "    </tr>\n",
              "    <tr>\n",
              "      <th>4</th>\n",
              "      <td>Apple</td>\n",
              "      <td>Ultrabook</td>\n",
              "      <td>13.3</td>\n",
              "      <td>2560.0</td>\n",
              "      <td>1600.0</td>\n",
              "      <td>Intel</td>\n",
              "      <td>3.1</td>\n",
              "      <td>8</td>\n",
              "      <td>256</td>\n",
              "      <td>0</td>\n",
              "      <td>Intel Iris Plus Graphics 650</td>\n",
              "      <td>0</td>\n",
              "      <td>macOS</td>\n",
              "      <td>1.37</td>\n",
              "      <td>960.96</td>\n",
              "    </tr>\n",
              "  </tbody>\n",
              "</table>\n",
              "</div>\n",
              "    <div class=\"colab-df-buttons\">\n",
              "\n",
              "  <div class=\"colab-df-container\">\n",
              "    <button class=\"colab-df-convert\" onclick=\"convertToInteractive('df-af66f390-45e0-4b9d-a254-32db69c6720e')\"\n",
              "            title=\"Convert this dataframe to an interactive table.\"\n",
              "            style=\"display:none;\">\n",
              "\n",
              "  <svg xmlns=\"http://www.w3.org/2000/svg\" height=\"24px\" viewBox=\"0 -960 960 960\">\n",
              "    <path d=\"M120-120v-720h720v720H120Zm60-500h600v-160H180v160Zm220 220h160v-160H400v160Zm0 220h160v-160H400v160ZM180-400h160v-160H180v160Zm440 0h160v-160H620v160ZM180-180h160v-160H180v160Zm440 0h160v-160H620v160Z\"/>\n",
              "  </svg>\n",
              "    </button>\n",
              "\n",
              "  <style>\n",
              "    .colab-df-container {\n",
              "      display:flex;\n",
              "      gap: 12px;\n",
              "    }\n",
              "\n",
              "    .colab-df-convert {\n",
              "      background-color: #E8F0FE;\n",
              "      border: none;\n",
              "      border-radius: 50%;\n",
              "      cursor: pointer;\n",
              "      display: none;\n",
              "      fill: #1967D2;\n",
              "      height: 32px;\n",
              "      padding: 0 0 0 0;\n",
              "      width: 32px;\n",
              "    }\n",
              "\n",
              "    .colab-df-convert:hover {\n",
              "      background-color: #E2EBFA;\n",
              "      box-shadow: 0px 1px 2px rgba(60, 64, 67, 0.3), 0px 1px 3px 1px rgba(60, 64, 67, 0.15);\n",
              "      fill: #174EA6;\n",
              "    }\n",
              "\n",
              "    .colab-df-buttons div {\n",
              "      margin-bottom: 4px;\n",
              "    }\n",
              "\n",
              "    [theme=dark] .colab-df-convert {\n",
              "      background-color: #3B4455;\n",
              "      fill: #D2E3FC;\n",
              "    }\n",
              "\n",
              "    [theme=dark] .colab-df-convert:hover {\n",
              "      background-color: #434B5C;\n",
              "      box-shadow: 0px 1px 3px 1px rgba(0, 0, 0, 0.15);\n",
              "      filter: drop-shadow(0px 1px 2px rgba(0, 0, 0, 0.3));\n",
              "      fill: #FFFFFF;\n",
              "    }\n",
              "  </style>\n",
              "\n",
              "    <script>\n",
              "      const buttonEl =\n",
              "        document.querySelector('#df-af66f390-45e0-4b9d-a254-32db69c6720e button.colab-df-convert');\n",
              "      buttonEl.style.display =\n",
              "        google.colab.kernel.accessAllowed ? 'block' : 'none';\n",
              "\n",
              "      async function convertToInteractive(key) {\n",
              "        const element = document.querySelector('#df-af66f390-45e0-4b9d-a254-32db69c6720e');\n",
              "        const dataTable =\n",
              "          await google.colab.kernel.invokeFunction('convertToInteractive',\n",
              "                                                    [key], {});\n",
              "        if (!dataTable) return;\n",
              "\n",
              "        const docLinkHtml = 'Like what you see? Visit the ' +\n",
              "          '<a target=\"_blank\" href=https://colab.research.google.com/notebooks/data_table.ipynb>data table notebook</a>'\n",
              "          + ' to learn more about interactive tables.';\n",
              "        element.innerHTML = '';\n",
              "        dataTable['output_type'] = 'display_data';\n",
              "        await google.colab.output.renderOutput(dataTable, element);\n",
              "        const docLink = document.createElement('div');\n",
              "        docLink.innerHTML = docLinkHtml;\n",
              "        element.appendChild(docLink);\n",
              "      }\n",
              "    </script>\n",
              "  </div>\n",
              "\n",
              "\n",
              "<div id=\"df-19a578df-cbaf-4673-af97-1f9dce11edb2\">\n",
              "  <button class=\"colab-df-quickchart\" onclick=\"quickchart('df-19a578df-cbaf-4673-af97-1f9dce11edb2')\"\n",
              "            title=\"Suggest charts\"\n",
              "            style=\"display:none;\">\n",
              "\n",
              "<svg xmlns=\"http://www.w3.org/2000/svg\" height=\"24px\"viewBox=\"0 0 24 24\"\n",
              "     width=\"24px\">\n",
              "    <g>\n",
              "        <path d=\"M19 3H5c-1.1 0-2 .9-2 2v14c0 1.1.9 2 2 2h14c1.1 0 2-.9 2-2V5c0-1.1-.9-2-2-2zM9 17H7v-7h2v7zm4 0h-2V7h2v10zm4 0h-2v-4h2v4z\"/>\n",
              "    </g>\n",
              "</svg>\n",
              "  </button>\n",
              "\n",
              "<style>\n",
              "  .colab-df-quickchart {\n",
              "      --bg-color: #E8F0FE;\n",
              "      --fill-color: #1967D2;\n",
              "      --hover-bg-color: #E2EBFA;\n",
              "      --hover-fill-color: #174EA6;\n",
              "      --disabled-fill-color: #AAA;\n",
              "      --disabled-bg-color: #DDD;\n",
              "  }\n",
              "\n",
              "  [theme=dark] .colab-df-quickchart {\n",
              "      --bg-color: #3B4455;\n",
              "      --fill-color: #D2E3FC;\n",
              "      --hover-bg-color: #434B5C;\n",
              "      --hover-fill-color: #FFFFFF;\n",
              "      --disabled-bg-color: #3B4455;\n",
              "      --disabled-fill-color: #666;\n",
              "  }\n",
              "\n",
              "  .colab-df-quickchart {\n",
              "    background-color: var(--bg-color);\n",
              "    border: none;\n",
              "    border-radius: 50%;\n",
              "    cursor: pointer;\n",
              "    display: none;\n",
              "    fill: var(--fill-color);\n",
              "    height: 32px;\n",
              "    padding: 0;\n",
              "    width: 32px;\n",
              "  }\n",
              "\n",
              "  .colab-df-quickchart:hover {\n",
              "    background-color: var(--hover-bg-color);\n",
              "    box-shadow: 0 1px 2px rgba(60, 64, 67, 0.3), 0 1px 3px 1px rgba(60, 64, 67, 0.15);\n",
              "    fill: var(--button-hover-fill-color);\n",
              "  }\n",
              "\n",
              "  .colab-df-quickchart-complete:disabled,\n",
              "  .colab-df-quickchart-complete:disabled:hover {\n",
              "    background-color: var(--disabled-bg-color);\n",
              "    fill: var(--disabled-fill-color);\n",
              "    box-shadow: none;\n",
              "  }\n",
              "\n",
              "  .colab-df-spinner {\n",
              "    border: 2px solid var(--fill-color);\n",
              "    border-color: transparent;\n",
              "    border-bottom-color: var(--fill-color);\n",
              "    animation:\n",
              "      spin 1s steps(1) infinite;\n",
              "  }\n",
              "\n",
              "  @keyframes spin {\n",
              "    0% {\n",
              "      border-color: transparent;\n",
              "      border-bottom-color: var(--fill-color);\n",
              "      border-left-color: var(--fill-color);\n",
              "    }\n",
              "    20% {\n",
              "      border-color: transparent;\n",
              "      border-left-color: var(--fill-color);\n",
              "      border-top-color: var(--fill-color);\n",
              "    }\n",
              "    30% {\n",
              "      border-color: transparent;\n",
              "      border-left-color: var(--fill-color);\n",
              "      border-top-color: var(--fill-color);\n",
              "      border-right-color: var(--fill-color);\n",
              "    }\n",
              "    40% {\n",
              "      border-color: transparent;\n",
              "      border-right-color: var(--fill-color);\n",
              "      border-top-color: var(--fill-color);\n",
              "    }\n",
              "    60% {\n",
              "      border-color: transparent;\n",
              "      border-right-color: var(--fill-color);\n",
              "    }\n",
              "    80% {\n",
              "      border-color: transparent;\n",
              "      border-right-color: var(--fill-color);\n",
              "      border-bottom-color: var(--fill-color);\n",
              "    }\n",
              "    90% {\n",
              "      border-color: transparent;\n",
              "      border-bottom-color: var(--fill-color);\n",
              "    }\n",
              "  }\n",
              "</style>\n",
              "\n",
              "  <script>\n",
              "    async function quickchart(key) {\n",
              "      const quickchartButtonEl =\n",
              "        document.querySelector('#' + key + ' button');\n",
              "      quickchartButtonEl.disabled = true;  // To prevent multiple clicks.\n",
              "      quickchartButtonEl.classList.add('colab-df-spinner');\n",
              "      try {\n",
              "        const charts = await google.colab.kernel.invokeFunction(\n",
              "            'suggestCharts', [key], {});\n",
              "      } catch (error) {\n",
              "        console.error('Error during call to suggestCharts:', error);\n",
              "      }\n",
              "      quickchartButtonEl.classList.remove('colab-df-spinner');\n",
              "      quickchartButtonEl.classList.add('colab-df-quickchart-complete');\n",
              "    }\n",
              "    (() => {\n",
              "      let quickchartButtonEl =\n",
              "        document.querySelector('#df-19a578df-cbaf-4673-af97-1f9dce11edb2 button');\n",
              "      quickchartButtonEl.style.display =\n",
              "        google.colab.kernel.accessAllowed ? 'block' : 'none';\n",
              "    })();\n",
              "  </script>\n",
              "</div>\n",
              "\n",
              "    </div>\n",
              "  </div>\n"
            ]
          },
          "metadata": {},
          "execution_count": 173
        }
      ]
    },
    {
      "cell_type": "markdown",
      "source": [
        "We will implement a polynomial regression model instead of a linear regression model, with the same parameters."
      ],
      "metadata": {
        "id": "2my21Qm3twrB"
      }
    },
    {
      "cell_type": "code",
      "source": [
        "features = df[['Clock Speed (GHz)', 'RAM (GB)', 'HDD Only?', 'Discrete Graphics?', 'Weight (kg)']]\n",
        "label = df['Price (GBP)']\n",
        "X_train, X_test, y_train, y_test = train_test_split(features, label, test_size=0.2, random_state=42)\n",
        "\n",
        "degree = 2\n",
        "polyreg = make_pipeline(PolynomialFeatures(degree), LinearRegression())\n",
        "polyreg.fit(X_train, y_train)\n",
        "\n",
        "# prediction\n",
        "y_pred_poly = polyreg.predict(X_test)\n",
        "\n",
        "# evaluation\n",
        "mse_poly = mean_squared_error(y_test, y_pred_poly)\n",
        "r2_poly = r2_score(y_test, y_pred_poly)\n",
        "print(f'Mean Squared Error (Polynomial): {mse_poly}')\n",
        "print(f'R-squared (Polynomial): {r2_poly}')\n"
      ],
      "metadata": {
        "colab": {
          "base_uri": "https://localhost:8080/"
        },
        "id": "PRUrsAXkt5G2",
        "outputId": "4ba2ca35-c190-490c-d49c-6cfb16f32fac"
      },
      "execution_count": 180,
      "outputs": [
        {
          "output_type": "stream",
          "name": "stdout",
          "text": [
            "Mean Squared Error (Polynomial): 39204.36273050357\n",
            "R-squared (Polynomial): 0.6216518379494611\n"
          ]
        }
      ]
    },
    {
      "cell_type": "markdown",
      "source": [
        "As shown above, a polynomial regression with a degree of 2 shows an improvement over the linear regression model used previously, though still underperforming compared to the random forest regressor. We still saw about a 10% improvement over the standard linear regression, which demonstrates how polynomial regression may be better suited to this dataset that linear."
      ],
      "metadata": {
        "id": "x6K9Z1YRuYBE"
      }
    },
    {
      "cell_type": "markdown",
      "source": [
        "# 10. Evaluation of Models\n",
        "We will first numerically evaluate the results of the three models used above to model the prices of laptops on the ecommerce site based on their specifications. We use RMSE as a metric due to it showing the relative performance of each model to each other, with a lower RMSE being better."
      ],
      "metadata": {
        "id": "_s5vAB0iu5ZM"
      }
    },
    {
      "cell_type": "code",
      "source": [
        "from sklearn.metrics import mean_squared_error\n",
        "import numpy as np\n",
        "\n",
        "# Evaluate Linear Regression model\n",
        "linear_regression_rmse = np.sqrt(mse)\n",
        "print(f\"Linear Regression RMSE: {linear_regression_rmse}\")\n",
        "print(f\"Linear Regression R-squared: {r2}\")\n",
        "\n",
        "# Evaluate Random Forest Regressor model\n",
        "random_forest_rmse = np.sqrt(rf_mse)\n",
        "print(f\"Random Forest RMSE: {random_forest_rmse}\")\n",
        "print(f\"Random Forest R-squared: {rf_r2}\")\n",
        "\n",
        "# Evaluate Polynomial Regression model\n",
        "polynomial_regression_rmse = np.sqrt(mse_poly)\n",
        "print(f\"Polynomial Regression RMSE: {polynomial_regression_rmse}\")\n",
        "print(f\"Polynomial Regression R-squared: {r2_poly}\")\n"
      ],
      "metadata": {
        "colab": {
          "base_uri": "https://localhost:8080/"
        },
        "id": "Okhe_kgKvi9A",
        "outputId": "d63976c6-99a3-4667-e908-c4d6a1ad2447"
      },
      "execution_count": 181,
      "outputs": [
        {
          "output_type": "stream",
          "name": "stdout",
          "text": [
            "Linear Regression RMSE: 211.4992473476969\n",
            "Linear Regression R-squared: 0.5683071235462527\n",
            "Random Forest RMSE: 173.50294906009708\n",
            "Random Forest R-squared: 0.7094834007284159\n",
            "Polynomial Regression RMSE: 198.00091598400138\n",
            "Polynomial Regression R-squared: 0.6216518379494611\n"
          ]
        }
      ]
    },
    {
      "cell_type": "markdown",
      "source": [
        "Out of the three models built for this dataset, the Random Forest is objectively the best performer, with the lowest RMSE out of the three. This project set out to provide an accurate prediction of price based on a given laptop's specifications, and although the models built ultimately did not produce an accurate enough prediction to be able to be used by every consumer, we believe that this model can be improved enough with more data and better training methods, as proven by the significant improvement by using a different model. This process is also highly transferable to any other dataset, as these tools only rely on a clean dataset and the various models and visualisation techinques could easily be adapted to work on different types of data. Overall, this project lays the groundwork for future advancements in using machine learning to improve ecommerce markets and serves as a template for applying similar methodologies to other domain-specific areas."
      ],
      "metadata": {
        "id": "k-kybLmVvZIT"
      }
    }
  ]
}