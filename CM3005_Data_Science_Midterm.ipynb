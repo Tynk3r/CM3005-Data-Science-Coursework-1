{
  "nbformat": 4,
  "nbformat_minor": 0,
  "metadata": {
    "colab": {
      "provenance": [],
      "authorship_tag": "ABX9TyMzrV2J7iVy+aIpIDWde0GO",
      "include_colab_link": true
    },
    "kernelspec": {
      "name": "python3",
      "display_name": "Python 3"
    },
    "language_info": {
      "name": "python"
    }
  },
  "cells": [
    {
      "cell_type": "markdown",
      "metadata": {
        "id": "view-in-github",
        "colab_type": "text"
      },
      "source": [
        "<a href=\"https://colab.research.google.com/github/Tynk3r/CM3005-Data-Science-Coursework-1/blob/main/CM3005_Data_Science_Midterm.ipynb\" target=\"_parent\"><img src=\"https://colab.research.google.com/assets/colab-badge.svg\" alt=\"Open In Colab\"/></a>"
      ]
    },
    {
      "cell_type": "markdown",
      "source": [
        "# 1. Domain-specific area and objectives of the project\n",
        "The area explored in this project is that of the realm of e-commmerce, specifically regarding the sale of laptops. Understanding the factors driving prices on laptops sold on e-commerce sites will benefit both consumers and sellers, and applying a linear regression model here will help us to understand the relationship between the prices of laptops and their specifications.\n",
        "\n",
        "The objectives of this project are as follows:\n",
        "\n",
        "\n",
        "1. Choose an appropriate dataset for this project (showing both the prices and specifications of laptops on e-commerce sites).\n",
        "2. Clean the dataset for missing or unclean data and preprocess it to make it easier to visualise and apply a model to.\n",
        "3. Construct a predictive model that will estimate laptop prices based on the specifications of the laptop.\n",
        "\n",
        "This accurate pricing model will help consumers by allowing them to better assess the value of a given laptop based on its specifications and this facilitate more informed purchases. It will also help sellers by letting them understand the factors affecting laptop pricing in the market, allowing them to make more strategic pricing strategies.\n",
        "\n",
        "The significance of this project in this domain-specific area is that a more accurate model of the prices of laptops will lead to more transparent and competitive markets. It also contributes to the ongoing conversation around leveraging machine learning in e-commerce."
      ],
      "metadata": {
        "id": "ZH7y_a4Oe2Ue"
      }
    },
    {
      "cell_type": "code",
      "source": [],
      "metadata": {
        "id": "NEf2U6vUfWQi"
      },
      "execution_count": null,
      "outputs": []
    }
  ]
}